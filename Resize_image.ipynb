{
 "cells": [
  {
   "cell_type": "code",
   "execution_count": 3,
   "id": "5eaec823",
   "metadata": {},
   "outputs": [
    {
     "name": "stderr",
     "output_type": "stream",
     "text": [
      "C:\\Users\\Shantanu Bhavsar\\AppData\\Local\\Temp\\ipykernel_29716\\2701096616.py:16: DeprecationWarning: ANTIALIAS is deprecated and will be removed in Pillow 10 (2023-07-01). Use Resampling.LANCZOS instead.\n",
      "  imResize = im.resize((224,224), Image.ANTIALIAS)\n"
     ]
    }
   ],
   "source": [
    "from PIL import Image\n",
    "import os, sys\n",
    "\n",
    "path = ('C:/Users/Shantanu Bhavsar/Downloads/Skin cancer dataset jyp/train')\n",
    "\n",
    "os.chdir(path)\n",
    "\n",
    "\n",
    "new_folder = 'C:/Users/Shantanu Bhavsar/Downloads/Skin cancer dataset jyp Resized/train'\n",
    "def resize(path):\n",
    "  for item in os.listdir(path):\n",
    "    if os.path.isfile(item):\n",
    "\n",
    "      im = Image.open(item)\n",
    "      f, e = os.path.splitext(item)\n",
    "      imResize = im.resize((224,224), Image.ANTIALIAS)\n",
    "      # imResize.save('1@' + f + ' resized.jpg', 'JPEG', quality=90)\n",
    "      imResize.save(os.path.join(new_folder, item +'_resized'+'.jpg'), 'JPEG', quality=90 )\n",
    "\n",
    "resize(path)"
   ]
  },
  {
   "cell_type": "code",
   "execution_count": 5,
   "id": "030e25dc",
   "metadata": {},
   "outputs": [
    {
     "name": "stderr",
     "output_type": "stream",
     "text": [
      "C:\\Users\\Shantanu Bhavsar\\AppData\\Local\\Temp\\ipykernel_29716\\1906119476.py:16: DeprecationWarning: ANTIALIAS is deprecated and will be removed in Pillow 10 (2023-07-01). Use Resampling.LANCZOS instead.\n",
      "  imResize = im.resize((224,224), Image.ANTIALIAS)\n"
     ]
    }
   ],
   "source": [
    "from PIL import Image\n",
    "import os, sys\n",
    "\n",
    "path = ('C:/Users/Shantanu Bhavsar/Downloads/Skin cancer dataset jyp/test')\n",
    "\n",
    "os.chdir(path)\n",
    "\n",
    "\n",
    "new_folder = 'C:/Users/Shantanu Bhavsar/Downloads/Skin cancer dataset jyp Resized/test'\n",
    "def resize(path):\n",
    "  for item in os.listdir(path):\n",
    "    if os.path.isfile(item):\n",
    "\n",
    "      im = Image.open(item)\n",
    "      f, e = os.path.splitext(item)\n",
    "      imResize = im.resize((224,224), Image.ANTIALIAS)\n",
    "      # imResize.save('1@' + f + ' resized.jpg', 'JPEG', quality=90)\n",
    "      imResize.save(os.path.join(new_folder, item +'_resized'+'.jpg'), 'JPEG', quality=90 )\n",
    "\n",
    "resize(path)"
   ]
  },
  {
   "cell_type": "markdown",
   "id": "021959bd",
   "metadata": {},
   "source": []
  }
 ],
 "metadata": {
  "kernelspec": {
   "display_name": "Python 3 (ipykernel)",
   "language": "python",
   "name": "python3"
  },
  "language_info": {
   "codemirror_mode": {
    "name": "ipython",
    "version": 3
   },
   "file_extension": ".py",
   "mimetype": "text/x-python",
   "name": "python",
   "nbconvert_exporter": "python",
   "pygments_lexer": "ipython3",
   "version": "3.9.15"
  }
 },
 "nbformat": 4,
 "nbformat_minor": 5
}
